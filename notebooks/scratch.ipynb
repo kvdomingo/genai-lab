{
 "cells": [
  {
   "cell_type": "code",
   "execution_count": 29,
   "id": "initial_id",
   "metadata": {
    "ExecuteTime": {
     "end_time": "2024-11-14T11:38:55.715567Z",
     "start_time": "2024-11-14T11:38:55.711072Z"
    }
   },
   "outputs": [],
   "source": [
    "import os\n",
    "\n",
    "os.chdir(\"..\")\n",
    "\n",
    "from dotenv import load_dotenv\n",
    "\n",
    "load_dotenv()\n",
    "\n",
    "os.environ.setdefault(\n",
    "    \"USER_AGENT\", \"intellijupyter:llm-lab:0.1.0 (by github.com/kvdomingo)\"\n",
    ")\n",
    "\n",
    "from pprint import PrettyPrinter\n",
    "\n",
    "import ollama\n",
    "from langchain_core.messages import HumanMessage\n",
    "from langchain_core.tools import tool\n",
    "from langchain_ollama import ChatOllama\n",
    "\n",
    "from common.settings import settings"
   ]
  },
  {
   "cell_type": "code",
   "execution_count": 4,
   "id": "c3fc4135495c6118",
   "metadata": {
    "ExecuteTime": {
     "end_time": "2024-11-14T11:23:30.828852Z",
     "start_time": "2024-11-14T11:23:29.752179Z"
    }
   },
   "outputs": [
    {
     "data": {
      "text/plain": [
       "{'status': 'success'}"
      ]
     },
     "execution_count": 4,
     "metadata": {},
     "output_type": "execute_result"
    }
   ],
   "source": [
    "client = ollama.Client(host=str(settings.OLLAMA_URL))\n",
    "chat_model_name = \"llama3.2\"\n",
    "client.pull(chat_model_name)"
   ]
  },
  {
   "cell_type": "code",
   "execution_count": 6,
   "id": "3a862213c4578961",
   "metadata": {
    "ExecuteTime": {
     "end_time": "2024-11-14T11:23:57.236508Z",
     "start_time": "2024-11-14T11:23:57.222950Z"
    }
   },
   "outputs": [],
   "source": [
    "@tool\n",
    "def multiply(a: int | float, b: int | float) -> int | float:\n",
    "    \"\"\"Multiply two numbers.\"\"\"\n",
    "    return a * b\n",
    "\n",
    "\n",
    "@tool\n",
    "def add(a: int | float, b: int | float) -> int | float:\n",
    "    \"\"\"Add two numbers.\"\"\"\n",
    "    return a + b"
   ]
  },
  {
   "cell_type": "code",
   "execution_count": 14,
   "id": "d595d69f6d80e95d",
   "metadata": {
    "ExecuteTime": {
     "end_time": "2024-11-14T11:32:37.831947Z",
     "start_time": "2024-11-14T11:32:37.784103Z"
    }
   },
   "outputs": [],
   "source": [
    "llm = ChatOllama(base_url=str(settings.OLLAMA_URL), model=chat_model_name)\n",
    "tools = [multiply, add]\n",
    "tool_selection = {t.name: t for t in tools}\n",
    "llm_tools = llm.bind_tools([multiply, add])"
   ]
  },
  {
   "cell_type": "code",
   "execution_count": 31,
   "id": "5dc3d6e74ee8ba7e",
   "metadata": {
    "ExecuteTime": {
     "end_time": "2024-11-14T11:39:43.950197Z",
     "start_time": "2024-11-14T11:39:43.549189Z"
    }
   },
   "outputs": [
    {
     "name": "stdout",
     "output_type": "stream",
     "text": [
      "[ { 'args': {'a': '6', 'b': '9'},\n",
      "    'id': 'd4887564-b3df-4784-ac05-689f3788b697',\n",
      "    'name': 'add',\n",
      "    'type': 'tool_call'},\n",
      "  { 'args': {'a': '2', 'b': '3'},\n",
      "    'id': '4e278b7b-c784-45a4-b9b3-8ddc9a5e6c95',\n",
      "    'name': 'multiply',\n",
      "    'type': 'tool_call'}]\n",
      "15\n",
      "6\n"
     ]
    }
   ],
   "source": [
    "messages = [HumanMessage(\"What is 6 + 9? Also, what is 2 * 3?\")]\n",
    "res = llm_tools.invoke(messages)\n",
    "PrettyPrinter(indent=2).pprint(res.tool_calls)\n",
    "\n",
    "for tc in res.tool_calls:\n",
    "    bot_response = tool_selection[tc[\"name\"]].invoke(tc)\n",
    "    print(bot_response.content)"
   ]
  },
  {
   "cell_type": "code",
   "execution_count": null,
   "id": "767e282b372ed876",
   "metadata": {},
   "outputs": [],
   "source": []
  }
 ],
 "metadata": {
  "kernelspec": {
   "display_name": "Python 3",
   "language": "python",
   "name": "python3"
  },
  "language_info": {
   "codemirror_mode": {
    "name": "ipython",
    "version": 2
   },
   "file_extension": ".py",
   "mimetype": "text/x-python",
   "name": "python",
   "nbconvert_exporter": "python",
   "pygments_lexer": "ipython2",
   "version": "2.7.6"
  }
 },
 "nbformat": 4,
 "nbformat_minor": 5
}

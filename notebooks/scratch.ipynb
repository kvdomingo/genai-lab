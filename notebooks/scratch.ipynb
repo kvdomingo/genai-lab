{
 "cells": [
  {
   "cell_type": "code",
   "execution_count": 37,
   "id": "initial_id",
   "metadata": {
    "ExecuteTime": {
     "end_time": "2024-11-01T10:24:08.858955Z",
     "start_time": "2024-11-01T10:24:08.854283Z"
    }
   },
   "outputs": [
    {
     "data": {
      "text/plain": [
       "'intellijupyter:llm-lab:0.1.0 (by github.com/kvdomingo)'"
      ]
     },
     "execution_count": 37,
     "metadata": {},
     "output_type": "execute_result"
    }
   ],
   "source": [
    "import os\n",
    "\n",
    "os.chdir(\"..\")\n",
    "\n",
    "from dotenv import load_dotenv\n",
    "\n",
    "load_dotenv()\n",
    "\n",
    "os.environ.setdefault(\n",
    "    \"USER_AGENT\", \"intellijupyter:llm-lab:0.1.0 (by github.com/kvdomingo)\"\n",
    ")"
   ]
  },
  {
   "cell_type": "code",
   "execution_count": 74,
   "id": "a53e02d7f13c5cc4",
   "metadata": {
    "ExecuteTime": {
     "end_time": "2024-11-01T11:04:14.884999Z",
     "start_time": "2024-11-01T11:04:14.881064Z"
    }
   },
   "outputs": [],
   "source": [
    "import bs4\n",
    "import chromadb\n",
    "import ollama\n",
    "from langchain.text_splitter import RecursiveCharacterTextSplitter\n",
    "from langchain_chroma import Chroma\n",
    "from langchain_community.document_loaders import WebBaseLoader\n",
    "from langchain_core.documents import Document\n",
    "from langchain_core.prompts import ChatPromptTemplate\n",
    "from langchain_ollama import ChatOllama, OllamaEmbeddings\n",
    "\n",
    "from common.settings import settings"
   ]
  },
  {
   "cell_type": "markdown",
   "id": "de1fa25d5e06a6d6",
   "metadata": {},
   "source": "## Indexing: Load"
  },
  {
   "cell_type": "code",
   "execution_count": 57,
   "id": "c3fc4135495c6118",
   "metadata": {
    "ExecuteTime": {
     "end_time": "2024-11-01T10:46:33.443806Z",
     "start_time": "2024-11-01T10:46:31.227860Z"
    }
   },
   "outputs": [
    {
     "data": {
      "text/plain": [
       "{'status': 'success'}"
      ]
     },
     "execution_count": 57,
     "metadata": {},
     "output_type": "execute_result"
    }
   ],
   "source": [
    "client = ollama.AsyncClient(host=str(settings.OLLAMA_URL))\n",
    "embedding_model_name = \"mxbai-embed-large\"\n",
    "chat_model_name = \"llama3.2\"\n",
    "await client.pull(embedding_model_name)\n",
    "await client.pull(chat_model_name)"
   ]
  },
  {
   "cell_type": "code",
   "execution_count": 40,
   "id": "f0148c7262525f0c",
   "metadata": {
    "ExecuteTime": {
     "end_time": "2024-11-01T10:28:48.860182Z",
     "start_time": "2024-11-01T10:28:48.378556Z"
    }
   },
   "outputs": [
    {
     "data": {
      "text/plain": [
       "6238"
      ]
     },
     "execution_count": 40,
     "metadata": {},
     "output_type": "execute_result"
    }
   ],
   "source": [
    "bs4_strainer = bs4.SoupStrainer(\n",
    "    name=(\n",
    "        \"h1\",\n",
    "        \"h2\",\n",
    "        \"h3\",\n",
    "        \"h4\",\n",
    "        \"h5\",\n",
    "        \"h6\",\n",
    "        \"p\",\n",
    "        \"a\",\n",
    "        \"ul\",\n",
    "        \"ol\",\n",
    "        \"li\",\n",
    "        \"div\",\n",
    "        \"code\",\n",
    "        \"caption\",\n",
    "        \"figcaption\",\n",
    "        \"table\",\n",
    "        \"thead\",\n",
    "        \"tbody\",\n",
    "        \"tr\",\n",
    "        \"td\",\n",
    "        \"th\",\n",
    "    ),\n",
    ")\n",
    "loader = WebBaseLoader(\n",
    "    web_path=\"https://kvd.studio/svip/ap186/image-types\",\n",
    "    bs_kwargs={\"parse_only\": bs4_strainer},\n",
    ")\n",
    "docs = loader.load()\n",
    "len(docs[0].page_content)"
   ]
  },
  {
   "cell_type": "markdown",
   "id": "f747f5b229cf2b3f",
   "metadata": {},
   "source": "## Indexing: Split"
  },
  {
   "cell_type": "code",
   "execution_count": 44,
   "id": "e439096c2b60ad29",
   "metadata": {
    "ExecuteTime": {
     "end_time": "2024-11-01T10:30:35.494178Z",
     "start_time": "2024-11-01T10:30:35.489418Z"
    }
   },
   "outputs": [
    {
     "data": {
      "text/plain": [
       "8"
      ]
     },
     "execution_count": 44,
     "metadata": {},
     "output_type": "execute_result"
    }
   ],
   "source": [
    "text_splitter = RecursiveCharacterTextSplitter(\n",
    "    chunk_size=1000,\n",
    "    chunk_overlap=200,\n",
    "    add_start_index=True,\n",
    ")\n",
    "all_splits = text_splitter.split_documents(docs)\n",
    "len(all_splits)"
   ]
  },
  {
   "cell_type": "markdown",
   "id": "34af1103679bc660",
   "metadata": {},
   "source": "## Indexing: Store"
  },
  {
   "cell_type": "code",
   "execution_count": 52,
   "id": "7898cd21d411978",
   "metadata": {
    "ExecuteTime": {
     "end_time": "2024-11-01T10:40:48.483813Z",
     "start_time": "2024-11-01T10:40:46.950710Z"
    }
   },
   "outputs": [],
   "source": [
    "db = chromadb.HttpClient(host=\"localhost\", port=8000)\n",
    "\n",
    "vectorstore = Chroma.from_documents(\n",
    "    documents=all_splits,\n",
    "    client=db,\n",
    "    embedding=OllamaEmbeddings(\n",
    "        base_url=str(settings.OLLAMA_URL),\n",
    "        model=embedding_model_name,\n",
    "    ),\n",
    ")"
   ]
  },
  {
   "cell_type": "markdown",
   "id": "7233d557802c5923",
   "metadata": {},
   "source": "## Retrieval"
  },
  {
   "cell_type": "code",
   "execution_count": 55,
   "id": "3358323d7386f70",
   "metadata": {
    "ExecuteTime": {
     "end_time": "2024-11-01T10:44:57.689497Z",
     "start_time": "2024-11-01T10:44:57.480824Z"
    }
   },
   "outputs": [
    {
     "data": {
      "text/plain": [
       "'channels. In the RAW file format, the raw information captured by the sensor is stored without any\\ncompression or manipulation. This technology is still used at present especially by professional camera\\nmanufacturers—such as Nikon’s NEF format and Canon’s CR2 format—in order\\nto preserve all the information received by the camera’s sensor, which provides an advantage when\\npost-processing later on, especially when shooting in low light. As imaging technology developed, so has our\\nability to reproduce larger images. Eventually, storage capacity became an issue, which birthed the challenge of\\ndata compression.\\nOne of the first formats to have taken up this challenge is the Graphics Interchange Format (GIF)\\nin 1987 [1]. It uses the Lempel-Ziv-Welch (LZW) lossless compression algorithm, which provides up to\\n25% compression. However, GIF is a pixel-dependent, 8-bit indexed format, so images could not show'"
      ]
     },
     "execution_count": 55,
     "metadata": {},
     "output_type": "execute_result"
    }
   ],
   "source": [
    "retriever = vectorstore.as_retriever(\n",
    "    search_type=\"similarity\",\n",
    "    search_kwargs={\"k\": 6},\n",
    ")\n",
    "retrieved_docs = retriever.invoke(\"What is the RAW image format used by Nikon?\")\n",
    "retrieved_docs[0].page_content"
   ]
  },
  {
   "cell_type": "markdown",
   "id": "a867f2ddf4a4d7ba",
   "metadata": {},
   "source": "## Generation"
  },
  {
   "cell_type": "code",
   "execution_count": 81,
   "id": "2356e1b8f1de5119",
   "metadata": {
    "ExecuteTime": {
     "end_time": "2024-11-01T11:07:20.818998Z",
     "start_time": "2024-11-01T11:07:20.777503Z"
    }
   },
   "outputs": [
    {
     "data": {
      "text/plain": [
       "ChatPromptTemplate(input_variables=['context', 'input'], input_types={}, partial_variables={}, messages=[SystemMessagePromptTemplate(prompt=PromptTemplate(input_variables=['context'], input_types={}, partial_variables={}, template=\"\\nYou are a helpful assistant for question-answering tasks. Use the following pieces of \\nretrieved content to answer the question. If you don't know the answer, just say that \\nyou don't know, don't try to make up an answer. Do not add any supplementary information.\\n\\nContext: {context}\\n\"), additional_kwargs={}), HumanMessagePromptTemplate(prompt=PromptTemplate(input_variables=['input'], input_types={}, partial_variables={}, template='{input}'), additional_kwargs={})])"
      ]
     },
     "execution_count": 81,
     "metadata": {},
     "output_type": "execute_result"
    }
   ],
   "source": [
    "llm = ChatOllama(\n",
    "    base_url=str(settings.OLLAMA_URL),\n",
    "    model=chat_model_name,\n",
    ")\n",
    "base_prompt = \"\"\"\n",
    "You are a helpful assistant for question-answering tasks. Use the following pieces of\n",
    "retrieved content to answer the question. If you don't know the answer, just say that\n",
    "you don't know, don't try to make up an answer. Do not add any supplementary information.\n",
    "\n",
    "Context: {context}\n",
    "\"\"\"\n",
    "prompt = ChatPromptTemplate.from_messages(\n",
    "    [(\"system\", base_prompt), (\"human\", \"{input}\")]\n",
    ")\n",
    "prompt"
   ]
  },
  {
   "cell_type": "code",
   "execution_count": 82,
   "id": "4ec4ccbd6ee152b3",
   "metadata": {
    "ExecuteTime": {
     "end_time": "2024-11-01T11:07:28.415019Z",
     "start_time": "2024-11-01T11:07:28.410261Z"
    }
   },
   "outputs": [],
   "source": [
    "from langchain.chains.combine_documents import create_stuff_documents_chain\n",
    "from langchain.chains.retrieval import create_retrieval_chain\n",
    "\n",
    "\n",
    "def format_docs(docs: list[Document]):\n",
    "    return \"\\n\\n\".join(doc.page_content for doc in docs)\n",
    "\n",
    "\n",
    "question_answer_chain = create_stuff_documents_chain(llm, prompt)\n",
    "rag_chain = create_retrieval_chain(retriever, question_answer_chain)"
   ]
  },
  {
   "cell_type": "code",
   "execution_count": 101,
   "id": "b4ae4151a8678ea7",
   "metadata": {
    "ExecuteTime": {
     "end_time": "2024-11-01T11:14:38.967396Z",
     "start_time": "2024-11-01T11:14:37.691493Z"
    }
   },
   "outputs": [
    {
     "name": "stdout",
     "output_type": "stream",
     "text": [
      "The GIF (Graphics Interchange Format) was created in 1987. It uses the Lempel-Ziv-Welch (LZW) lossless compression algorithm, which provides up to 25% compression. However, GIF is a pixel-dependent, 8-bit indexed format, so images could not show their full color range in this format. \n",
      "\n",
      "The file format quickly fell out of favor when its compression technique was patented in 1995 by Unisys Corporation [2], who attempted to collect royalties from GIF users.\n",
      "\n",
      "Source:https://kvd.studio/svip/ap186/image-types (l. 3266)\n"
     ]
    }
   ],
   "source": [
    "sources = []\n",
    "async for out in rag_chain.astream(\n",
    "    {\"input\": \"What is the story behind the GIF format?\"}\n",
    "):\n",
    "    if out.get(\"context\"):\n",
    "        sources.append(out[\"context\"][0])\n",
    "\n",
    "    if out.get(\"answer\"):\n",
    "        print(out[\"answer\"], end=\"\", flush=True)\n",
    "\n",
    "print(\n",
    "    \"\\n\\nSource:\"\n",
    "    + sources[0].metadata.get(\"source\")\n",
    "    + f' (l. {sources[0].metadata.get(\"start_index\")})'\n",
    ")"
   ]
  },
  {
   "cell_type": "code",
   "execution_count": null,
   "id": "6ec59f994e7678bf",
   "metadata": {},
   "outputs": [],
   "source": []
  }
 ],
 "metadata": {
  "kernelspec": {
   "display_name": "Python 3",
   "language": "python",
   "name": "python3"
  },
  "language_info": {
   "codemirror_mode": {
    "name": "ipython",
    "version": 2
   },
   "file_extension": ".py",
   "mimetype": "text/x-python",
   "name": "python",
   "nbconvert_exporter": "python",
   "pygments_lexer": "ipython2",
   "version": "2.7.6"
  }
 },
 "nbformat": 4,
 "nbformat_minor": 5
}
